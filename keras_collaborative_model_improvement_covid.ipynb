{
  "nbformat": 4,
  "nbformat_minor": 0,
  "metadata": {
    "colab": {
      "name": "keras_collaborative_model_improvement_covid.ipynb",
      "provenance": [],
      "collapsed_sections": []
    },
    "kernelspec": {
      "name": "python3",
      "display_name": "Python 3"
    },
    "language_info": {
      "name": "python"
    }
  },
  "cells": [
    {
      "cell_type": "markdown",
      "metadata": {
        "id": "JXxGTgJz152A"
      },
      "source": [
        "## Covid Tweet Misinformation Prediction Competition\n",
        "Let's share our models to a centralized leaderboard, so that we can collaborate and learn from the model experimentation process...\n",
        "\n",
        "**Instructions:**\n",
        "1.   Get data in and set up X_train / X_test / y_train\n",
        "2.   Preprocess data using keras Tokenizer/ Write and Save Preprocessor function\n",
        "3. Fit model on preprocessed data and save preprocessor function and model \n",
        "4. Generate predictions from X_test data and submit model to competition\n",
        "5. Repeat submission process to improve place on leaderboard\n",
        "\n"
      ]
    },
    {
      "cell_type": "markdown",
      "metadata": {
        "id": "5gSrVJwp3E9H"
      },
      "source": [
        "## 1. Get data in and set up X_train, X_test, y_train objects"
      ]
    },
    {
      "cell_type": "code",
      "metadata": {
        "id": "PLTIaMB3ChSW"
      },
      "source": [
        "#install aimodelshare library\n",
        "! pip install aimodelshare --upgrade"
      ],
      "execution_count": null,
      "outputs": []
    },
    {
      "cell_type": "code",
      "metadata": {
        "colab": {
          "base_uri": "https://localhost:8080/"
        },
        "id": "d3PiJXBhC5y-",
        "outputId": "72c96d3f-81c5-4273-ba8e-48f1cbf5db45"
      },
      "source": [
        "# Get competition data\n",
        "from aimodelshare import download_data\n",
        "download_data('public.ecr.aws/y2e2a1d6/covid_tweet_competition_data-repository:latest') "
      ],
      "execution_count": 2,
      "outputs": [
        {
          "output_type": "stream",
          "name": "stdout",
          "text": [
            "Downloading [======================================>          ]\n",
            "\n",
            "Data downloaded successfully.\n"
          ]
        }
      ]
    },
    {
      "cell_type": "code",
      "metadata": {
        "colab": {
          "base_uri": "https://localhost:8080/"
        },
        "id": "jT0qFCZFNzHq",
        "outputId": "3237587d-dd79-48c1-9e42-839a6223bf6e"
      },
      "source": [
        "# Separate data into X_train, y_train, and X_test\n",
        "import pandas as pd\n",
        "X_train=pd.read_csv(\"covid_tweet_competition_data/X_train.csv\", squeeze=True)\n",
        "X_test=pd.read_csv(\"covid_tweet_competition_data/X_test.csv\", squeeze=True)\n",
        "\n",
        "y_train_labels=pd.read_csv(\"covid_tweet_competition_data/y_train_labels.csv\", squeeze=True)\n",
        "# ohe encode Y data\n",
        "y_train = pd.get_dummies(y_train_labels)\n",
        "\n",
        "X_train.head()"
      ],
      "execution_count": 3,
      "outputs": [
        {
          "output_type": "execute_result",
          "data": {
            "text/plain": [
              "0    \"[T]he label of the popular Lysol already show...\n",
              "1    There were more deaths on the roads of France ...\n",
              "2    250 new cases of #COVID19Nigeria; Plateau-69 F...\n",
              "3    @XanderArmstrong Why was chloroquine described...\n",
              "4    Our new Can Compare 'College' tags make it eas...\n",
              "Name: tweet, dtype: object"
            ]
          },
          "metadata": {},
          "execution_count": 3
        }
      ]
    },
    {
      "cell_type": "markdown",
      "metadata": {
        "id": "gEzPoXPj3V7u"
      },
      "source": [
        "##2.   Preprocess data using keras tokenizer / Write and Save Preprocessor function\n"
      ]
    },
    {
      "cell_type": "code",
      "metadata": {
        "id": "16QV9Y9TC3B3",
        "colab": {
          "base_uri": "https://localhost:8080/"
        },
        "outputId": "3aa2ee69-45a2-4c01-c20e-9d8ccbc2a74f"
      },
      "source": [
        "from tensorflow.keras.preprocessing.text import Tokenizer\n",
        "from tensorflow.keras.preprocessing.sequence import pad_sequences\n",
        "import numpy as np\n",
        "\n",
        "# Build vocabulary from training text data\n",
        "tokenizer = Tokenizer(num_words=10000)\n",
        "tokenizer.fit_on_texts(X_train)\n",
        "\n",
        "# preprocessor tokenizes words and makes sure all documents have the same length\n",
        "def preprocessor(data, maxlen=40, max_words=10000):\n",
        "\n",
        "    sequences = tokenizer.texts_to_sequences(data)\n",
        "\n",
        "    word_index = tokenizer.word_index\n",
        "    X = pad_sequences(sequences, maxlen=maxlen)\n",
        "\n",
        "    return X\n",
        "\n",
        "print(preprocessor(X_train).shape)\n",
        "print(preprocessor(X_test).shape)"
      ],
      "execution_count": 4,
      "outputs": [
        {
          "output_type": "stream",
          "name": "stdout",
          "text": [
            "(6505, 40)\n",
            "(2055, 40)\n"
          ]
        }
      ]
    },
    {
      "cell_type": "markdown",
      "metadata": {
        "id": "X52kECL43b-O"
      },
      "source": [
        "##3. Fit model on preprocessed data and save preprocessor function and model \n"
      ]
    },
    {
      "cell_type": "code",
      "metadata": {
        "colab": {
          "base_uri": "https://localhost:8080/"
        },
        "id": "NCbBf8j9ClYl",
        "outputId": "da6b363a-4ec3-4a35-8c92-37c45853a74b"
      },
      "source": [
        "from tensorflow.keras.layers import Dense, Embedding,Flatten\n",
        "from tensorflow.keras.models import Sequential\n",
        "\n",
        "model = Sequential()\n",
        "model.add(Embedding(10000, 16, input_length=40))\n",
        "model.add(Flatten())\n",
        "model.add(Dense(2, activation='softmax'))\n",
        "model.summary()\n",
        "\n",
        "model.compile(optimizer='rmsprop', loss='categorical_crossentropy', metrics=['acc'])\n",
        "\n",
        "history = model.fit(preprocessor(X_train), y_train,\n",
        "                    epochs=1,\n",
        "                    batch_size=32,\n",
        "                    validation_split=0.2)"
      ],
      "execution_count": 5,
      "outputs": [
        {
          "output_type": "stream",
          "name": "stdout",
          "text": [
            "Model: \"sequential\"\n",
            "_________________________________________________________________\n",
            " Layer (type)                Output Shape              Param #   \n",
            "=================================================================\n",
            " embedding (Embedding)       (None, 40, 16)            160000    \n",
            "                                                                 \n",
            " flatten (Flatten)           (None, 640)               0         \n",
            "                                                                 \n",
            " dense (Dense)               (None, 2)                 1282      \n",
            "                                                                 \n",
            "=================================================================\n",
            "Total params: 161,282\n",
            "Trainable params: 161,282\n",
            "Non-trainable params: 0\n",
            "_________________________________________________________________\n",
            "163/163 [==============================] - 1s 4ms/step - loss: 0.4944 - acc: 0.7625 - val_loss: 0.3711 - val_acc: 0.8340\n"
          ]
        }
      ]
    },
    {
      "cell_type": "markdown",
      "metadata": {
        "id": "zmJAnmO-5AcU"
      },
      "source": [
        "#### Save preprocessor function to local \"preprocessor.zip\" file"
      ]
    },
    {
      "cell_type": "code",
      "metadata": {
        "colab": {
          "base_uri": "https://localhost:8080/"
        },
        "id": "4VGacc0LDaMA",
        "outputId": "85c3dcc0-e2ab-464a-87b1-b5b9f277967b"
      },
      "source": [
        "import aimodelshare as ai\n",
        "ai.export_preprocessor(preprocessor,\"\") "
      ],
      "execution_count": 6,
      "outputs": [
        {
          "output_type": "stream",
          "name": "stdout",
          "text": [
            "Your preprocessor is now saved to 'preprocessor.zip'\n"
          ]
        }
      ]
    },
    {
      "cell_type": "markdown",
      "metadata": {
        "id": "oOWBa8Cv5LdL"
      },
      "source": [
        "#### Save model to local \".onnx\" file"
      ]
    },
    {
      "cell_type": "code",
      "metadata": {
        "id": "pEhvnRiQDlY5"
      },
      "source": [
        "# Save sklearn model to local ONNX file\n",
        "from aimodelshare.aimsonnx import model_to_onnx\n",
        "\n",
        "onnx_model = model_to_onnx(model, framework='keras',\n",
        "                          transfer_learning=False,\n",
        "                          deep_learning=True)\n",
        "\n",
        "with open(\"model.onnx\", \"wb\") as f:\n",
        "    f.write(onnx_model.SerializeToString())"
      ],
      "execution_count": 7,
      "outputs": []
    },
    {
      "cell_type": "markdown",
      "metadata": {
        "id": "gHWkAzvX3m8O"
      },
      "source": [
        "## 4. Generate predictions from X_test data and submit model to competition\n"
      ]
    },
    {
      "cell_type": "code",
      "metadata": {
        "colab": {
          "base_uri": "https://localhost:8080/"
        },
        "id": "RtgkM02MDpkO",
        "outputId": "e9d7c709-d39a-4006-cace-6ced4f794daa"
      },
      "source": [
        "#Set credentials using modelshare.org username/password\n",
        "\n",
        "from aimodelshare.aws import set_credentials\n",
        "    \n",
        "apiurl='https://q29m0ncx23.execute-api.us-east-1.amazonaws.com/prod/m' #This is the unique rest api that powers this Covid Tweet Playground\n",
        "\n",
        "set_credentials(apiurl=apiurl)"
      ],
      "execution_count": null,
      "outputs": [
        {
          "output_type": "stream",
          "name": "stdout",
          "text": [
            "AI Modelshare Username:··········\n",
            "AI Modelshare Password:··········\n",
            "AI Model Share login credentials set successfully.\n"
          ]
        }
      ]
    },
    {
      "cell_type": "code",
      "metadata": {
        "id": "fKNGSww8EGgi"
      },
      "source": [
        "#Instantiate Competition\n",
        "\n",
        "mycompetition= ai.Competition(apiurl)"
      ],
      "execution_count": null,
      "outputs": []
    },
    {
      "cell_type": "code",
      "metadata": {
        "id": "_Ql4wksyEUnP",
        "colab": {
          "base_uri": "https://localhost:8080/"
        },
        "outputId": "91c23ec8-9f12-4ee3-e55c-40e9de3fd60a"
      },
      "source": [
        "#Submit Model 1: \n",
        "\n",
        "#-- Generate predicted y values (Model 1)\n",
        "#Note: Keras predict returns the predicted column index location for classification models\n",
        "prediction_column_index=model.predict(preprocessor(X_test)).argmax(axis=1)\n",
        "\n",
        "# extract correct prediction labels \n",
        "prediction_labels = [y_train.columns[i] for i in prediction_column_index]\n",
        "\n",
        "# Submit Model 1 to Competition Leaderboard\n",
        "mycompetition.submit_model(model_filepath = \"model.onnx\",\n",
        "                                 preprocessor_filepath=\"preprocessor.zip\",\n",
        "                                 prediction_submission=prediction_labels)"
      ],
      "execution_count": null,
      "outputs": [
        {
          "output_type": "stream",
          "name": "stdout",
          "text": [
            "Insert search tags to help users find your model (optional): tf keras\n",
            "Provide any useful notes about your model (optional): keras embedding\n",
            "\n",
            "Your model has been submitted as model version 16\n",
            "\n",
            "To submit code used to create this model or to view current leaderboard navigate to Model Playground: \n",
            "\n",
            " https://www.modelshare.org/detail/model:769\n"
          ]
        }
      ]
    },
    {
      "cell_type": "code",
      "metadata": {
        "id": "GN1zvAmNEq17"
      },
      "source": [
        "# Get leaderboard to explore current best model architectures\n",
        "\n",
        "# Get raw data in pandas data frame\n",
        "data = mycompetition.get_leaderboard()\n",
        "\n",
        "# Stylize leaderboard data\n",
        "mycompetition.stylize_leaderboard(data)"
      ],
      "execution_count": null,
      "outputs": []
    },
    {
      "cell_type": "markdown",
      "metadata": {
        "id": "bwNKs0wP4r5s"
      },
      "source": [
        "## 5. Repeat submission process to improve place on leaderboard\n"
      ]
    },
    {
      "cell_type": "code",
      "metadata": {
        "colab": {
          "base_uri": "https://localhost:8080/"
        },
        "id": "FgSs5PAtPCZH",
        "outputId": "d045092d-3631-4d6a-ae7d-19c5aa9dc985"
      },
      "source": [
        "# Train and submit model 2 using same preprocessor (note that you could save a new preprocessor, but we will use the same one for this example).\n",
        "from tensorflow.keras.models import Sequential\n",
        "from tensorflow.keras.layers import Dense, Embedding, LSTM, Flatten\n",
        "\n",
        "model2 = Sequential()\n",
        "model2.add(Embedding(10000, 16, input_length=40))\n",
        "model2.add(LSTM(32, return_sequences=True, dropout=0.2, recurrent_dropout=0.2))\n",
        "model2.add(LSTM(32, return_sequences=True, dropout=0.2, recurrent_dropout=0.2))\n",
        "model2.add(Flatten())\n",
        "model2.add(Dense(2, activation='softmax'))\n",
        "\n",
        "model2.compile(optimizer='rmsprop', loss='binary_crossentropy', metrics=['acc'])\n",
        "history = model2.fit(preprocessor(X_train), y_train,\n",
        "                    epochs=1,\n",
        "                    batch_size=32,\n",
        "                    validation_split=0.2)"
      ],
      "execution_count": null,
      "outputs": [
        {
          "output_type": "stream",
          "name": "stdout",
          "text": [
            "163/163 [==============================] - 22s 100ms/step - loss: 0.3901 - acc: 0.8242 - val_loss: 0.2542 - val_acc: 0.8878\n"
          ]
        }
      ]
    },
    {
      "cell_type": "code",
      "metadata": {
        "id": "aIdmSpYVPYAw"
      },
      "source": [
        "# Save keras model to local ONNX file\n",
        "from aimodelshare.aimsonnx import model_to_onnx\n",
        "\n",
        "onnx_model = model_to_onnx(model2, framework='keras',\n",
        "                          transfer_learning=False,\n",
        "                          deep_learning=True)\n",
        "\n",
        "with open(\"model2.onnx\", \"wb\") as f:\n",
        "    f.write(onnx_model.SerializeToString())"
      ],
      "execution_count": null,
      "outputs": []
    },
    {
      "cell_type": "code",
      "metadata": {
        "colab": {
          "base_uri": "https://localhost:8080/"
        },
        "id": "nszPPrfwPlUk",
        "outputId": "419c9f67-32fa-41fe-cce5-155f0227a8aa"
      },
      "source": [
        "#Submit Model 2: \n",
        "\n",
        "#-- Generate predicted y values (Model 2)\n",
        "prediction_column_index=model2.predict(preprocessor(X_test)).argmax(axis=1)\n",
        "\n",
        "# extract correct prediction labels \n",
        "prediction_labels = [y_train.columns[i] for i in prediction_column_index]\n",
        "\n",
        "# Submit Model 2 to Competition Leaderboard\n",
        "mycompetition.submit_model(model_filepath = \"model2.onnx\",\n",
        "                                 preprocessor_filepath=\"preprocessor.zip\",\n",
        "                                 prediction_submission=prediction_labels)"
      ],
      "execution_count": null,
      "outputs": [
        {
          "output_type": "stream",
          "name": "stdout",
          "text": [
            "Insert search tags to help users find your model (optional): \n",
            "Provide any useful notes about your model (optional): \n",
            "\n",
            "Your model has been submitted as model version 12\n",
            "\n",
            "To submit code used to create this model or to view current leaderboard navigate to Model Playground: \n",
            "\n",
            " https://www.modelshare.org/detail/model:769\n"
          ]
        }
      ]
    },
    {
      "cell_type": "code",
      "metadata": {
        "colab": {
          "base_uri": "https://localhost:8080/",
          "height": 144
        },
        "id": "qLl7yLpVEx26",
        "outputId": "29b0b9b7-32d5-4bd1-ad3f-4fa782d53a9e"
      },
      "source": [
        "# Compare two or more models (Experimental, Git-like Diffs for Model Architectures)\n",
        "data=mycompetition.compare_models([11,12], verbose=1)\n",
        "mycompetition.stylize_compare(data)"
      ],
      "execution_count": null,
      "outputs": [
        {
          "output_type": "display_data",
          "data": {
            "text/html": [
              "<style  type=\"text/css\" >\n",
              "    #T_85f2fc8c_4b29_11ec_a43d_0242ac1c0002 caption {\n",
              "          color: black;\n",
              "          font-size: 18px;\n",
              "    }#T_85f2fc8c_4b29_11ec_a43d_0242ac1c0002row0_col0,#T_85f2fc8c_4b29_11ec_a43d_0242ac1c0002row0_col3{\n",
              "            background:  #f4cae4;\n",
              "            color:  black;\n",
              "            color:  black;\n",
              "        }#T_85f2fc8c_4b29_11ec_a43d_0242ac1c0002row0_col1,#T_85f2fc8c_4b29_11ec_a43d_0242ac1c0002row0_col2,#T_85f2fc8c_4b29_11ec_a43d_0242ac1c0002row0_col4,#T_85f2fc8c_4b29_11ec_a43d_0242ac1c0002row0_col5,#T_85f2fc8c_4b29_11ec_a43d_0242ac1c0002row1_col1,#T_85f2fc8c_4b29_11ec_a43d_0242ac1c0002row1_col2,#T_85f2fc8c_4b29_11ec_a43d_0242ac1c0002row1_col4,#T_85f2fc8c_4b29_11ec_a43d_0242ac1c0002row1_col5,#T_85f2fc8c_4b29_11ec_a43d_0242ac1c0002row2_col1,#T_85f2fc8c_4b29_11ec_a43d_0242ac1c0002row2_col2,#T_85f2fc8c_4b29_11ec_a43d_0242ac1c0002row2_col4,#T_85f2fc8c_4b29_11ec_a43d_0242ac1c0002row2_col5,#T_85f2fc8c_4b29_11ec_a43d_0242ac1c0002row3_col0,#T_85f2fc8c_4b29_11ec_a43d_0242ac1c0002row3_col1,#T_85f2fc8c_4b29_11ec_a43d_0242ac1c0002row3_col2,#T_85f2fc8c_4b29_11ec_a43d_0242ac1c0002row3_col4,#T_85f2fc8c_4b29_11ec_a43d_0242ac1c0002row3_col5,#T_85f2fc8c_4b29_11ec_a43d_0242ac1c0002row4_col0,#T_85f2fc8c_4b29_11ec_a43d_0242ac1c0002row4_col1,#T_85f2fc8c_4b29_11ec_a43d_0242ac1c0002row4_col2,#T_85f2fc8c_4b29_11ec_a43d_0242ac1c0002row4_col4,#T_85f2fc8c_4b29_11ec_a43d_0242ac1c0002row4_col5{\n",
              "            background:  white;\n",
              "            color:  black;\n",
              "            color:  black;\n",
              "        }#T_85f2fc8c_4b29_11ec_a43d_0242ac1c0002row1_col0,#T_85f2fc8c_4b29_11ec_a43d_0242ac1c0002row3_col3{\n",
              "            background:  #e6f5c9;\n",
              "            color:  black;\n",
              "            color:  black;\n",
              "        }#T_85f2fc8c_4b29_11ec_a43d_0242ac1c0002row1_col3,#T_85f2fc8c_4b29_11ec_a43d_0242ac1c0002row2_col3{\n",
              "            background:  #cbd5e8;\n",
              "            color:  black;\n",
              "            color:  black;\n",
              "        }#T_85f2fc8c_4b29_11ec_a43d_0242ac1c0002row2_col0,#T_85f2fc8c_4b29_11ec_a43d_0242ac1c0002row4_col3{\n",
              "            background:  #fff2ae;\n",
              "            color:  black;\n",
              "            color:  black;\n",
              "        }</style><table id=\"T_85f2fc8c_4b29_11ec_a43d_0242ac1c0002\" ><caption>Model type: Neural Network</caption><thead>    <tr>        <th class=\"blank level0\" ></th>        <th class=\"col_heading level0 col0\" >Model_11_Layer</th>        <th class=\"col_heading level0 col1\" >Model_11_Shape</th>        <th class=\"col_heading level0 col2\" >Model_11_Params</th>        <th class=\"col_heading level0 col3\" >Model_12_Layer</th>        <th class=\"col_heading level0 col4\" >Model_12_Shape</th>        <th class=\"col_heading level0 col5\" >Model_12_Params</th>    </tr></thead><tbody>\n",
              "                <tr>\n",
              "                        <th id=\"T_85f2fc8c_4b29_11ec_a43d_0242ac1c0002level0_row0\" class=\"row_heading level0 row0\" >0</th>\n",
              "                        <td id=\"T_85f2fc8c_4b29_11ec_a43d_0242ac1c0002row0_col0\" class=\"data row0 col0\" >Embedding</td>\n",
              "                        <td id=\"T_85f2fc8c_4b29_11ec_a43d_0242ac1c0002row0_col1\" class=\"data row0 col1\" >[None, 40, 16]</td>\n",
              "                        <td id=\"T_85f2fc8c_4b29_11ec_a43d_0242ac1c0002row0_col2\" class=\"data row0 col2\" >160000.000000</td>\n",
              "                        <td id=\"T_85f2fc8c_4b29_11ec_a43d_0242ac1c0002row0_col3\" class=\"data row0 col3\" >Embedding</td>\n",
              "                        <td id=\"T_85f2fc8c_4b29_11ec_a43d_0242ac1c0002row0_col4\" class=\"data row0 col4\" >[None, 40, 16]</td>\n",
              "                        <td id=\"T_85f2fc8c_4b29_11ec_a43d_0242ac1c0002row0_col5\" class=\"data row0 col5\" >160000</td>\n",
              "            </tr>\n",
              "            <tr>\n",
              "                        <th id=\"T_85f2fc8c_4b29_11ec_a43d_0242ac1c0002level0_row1\" class=\"row_heading level0 row1\" >1</th>\n",
              "                        <td id=\"T_85f2fc8c_4b29_11ec_a43d_0242ac1c0002row1_col0\" class=\"data row1 col0\" >Flatten</td>\n",
              "                        <td id=\"T_85f2fc8c_4b29_11ec_a43d_0242ac1c0002row1_col1\" class=\"data row1 col1\" >[None, 640]</td>\n",
              "                        <td id=\"T_85f2fc8c_4b29_11ec_a43d_0242ac1c0002row1_col2\" class=\"data row1 col2\" >0.000000</td>\n",
              "                        <td id=\"T_85f2fc8c_4b29_11ec_a43d_0242ac1c0002row1_col3\" class=\"data row1 col3\" >LSTM</td>\n",
              "                        <td id=\"T_85f2fc8c_4b29_11ec_a43d_0242ac1c0002row1_col4\" class=\"data row1 col4\" >[None, 40, 32]</td>\n",
              "                        <td id=\"T_85f2fc8c_4b29_11ec_a43d_0242ac1c0002row1_col5\" class=\"data row1 col5\" >6272</td>\n",
              "            </tr>\n",
              "            <tr>\n",
              "                        <th id=\"T_85f2fc8c_4b29_11ec_a43d_0242ac1c0002level0_row2\" class=\"row_heading level0 row2\" >2</th>\n",
              "                        <td id=\"T_85f2fc8c_4b29_11ec_a43d_0242ac1c0002row2_col0\" class=\"data row2 col0\" >Dense</td>\n",
              "                        <td id=\"T_85f2fc8c_4b29_11ec_a43d_0242ac1c0002row2_col1\" class=\"data row2 col1\" >[None, 2]</td>\n",
              "                        <td id=\"T_85f2fc8c_4b29_11ec_a43d_0242ac1c0002row2_col2\" class=\"data row2 col2\" >1282.000000</td>\n",
              "                        <td id=\"T_85f2fc8c_4b29_11ec_a43d_0242ac1c0002row2_col3\" class=\"data row2 col3\" >LSTM</td>\n",
              "                        <td id=\"T_85f2fc8c_4b29_11ec_a43d_0242ac1c0002row2_col4\" class=\"data row2 col4\" >[None, 40, 32]</td>\n",
              "                        <td id=\"T_85f2fc8c_4b29_11ec_a43d_0242ac1c0002row2_col5\" class=\"data row2 col5\" >8320</td>\n",
              "            </tr>\n",
              "            <tr>\n",
              "                        <th id=\"T_85f2fc8c_4b29_11ec_a43d_0242ac1c0002level0_row3\" class=\"row_heading level0 row3\" >3</th>\n",
              "                        <td id=\"T_85f2fc8c_4b29_11ec_a43d_0242ac1c0002row3_col0\" class=\"data row3 col0\" >None</td>\n",
              "                        <td id=\"T_85f2fc8c_4b29_11ec_a43d_0242ac1c0002row3_col1\" class=\"data row3 col1\" >None</td>\n",
              "                        <td id=\"T_85f2fc8c_4b29_11ec_a43d_0242ac1c0002row3_col2\" class=\"data row3 col2\" >nan</td>\n",
              "                        <td id=\"T_85f2fc8c_4b29_11ec_a43d_0242ac1c0002row3_col3\" class=\"data row3 col3\" >Flatten</td>\n",
              "                        <td id=\"T_85f2fc8c_4b29_11ec_a43d_0242ac1c0002row3_col4\" class=\"data row3 col4\" >[None, 1280]</td>\n",
              "                        <td id=\"T_85f2fc8c_4b29_11ec_a43d_0242ac1c0002row3_col5\" class=\"data row3 col5\" >0</td>\n",
              "            </tr>\n",
              "            <tr>\n",
              "                        <th id=\"T_85f2fc8c_4b29_11ec_a43d_0242ac1c0002level0_row4\" class=\"row_heading level0 row4\" >4</th>\n",
              "                        <td id=\"T_85f2fc8c_4b29_11ec_a43d_0242ac1c0002row4_col0\" class=\"data row4 col0\" >None</td>\n",
              "                        <td id=\"T_85f2fc8c_4b29_11ec_a43d_0242ac1c0002row4_col1\" class=\"data row4 col1\" >None</td>\n",
              "                        <td id=\"T_85f2fc8c_4b29_11ec_a43d_0242ac1c0002row4_col2\" class=\"data row4 col2\" >nan</td>\n",
              "                        <td id=\"T_85f2fc8c_4b29_11ec_a43d_0242ac1c0002row4_col3\" class=\"data row4 col3\" >Dense</td>\n",
              "                        <td id=\"T_85f2fc8c_4b29_11ec_a43d_0242ac1c0002row4_col4\" class=\"data row4 col4\" >[None, 2]</td>\n",
              "                        <td id=\"T_85f2fc8c_4b29_11ec_a43d_0242ac1c0002row4_col5\" class=\"data row4 col5\" >2562</td>\n",
              "            </tr>\n",
              "    </tbody></table>"
            ],
            "text/plain": [
              "<IPython.core.display.HTML object>"
            ]
          },
          "metadata": {}
        }
      ]
    },
    {
      "cell_type": "markdown",
      "metadata": {
        "id": "Pl67bOO-lz9k"
      },
      "source": [
        "## Optional: Tune model within range of hyperparameters with Keras Tuner\n",
        "\n",
        "*Simple example shown below. Consult [documentation](https://keras.io/guides/keras_tuner/getting_started/) to see full functionality.*"
      ]
    },
    {
      "cell_type": "code",
      "metadata": {
        "id": "MOGXwppct0KI"
      },
      "source": [
        "! pip install keras_tuner"
      ],
      "execution_count": null,
      "outputs": []
    },
    {
      "cell_type": "code",
      "metadata": {
        "id": "O7o_zA3fv-ra"
      },
      "source": [
        "#Separate validation data \n",
        "from sklearn.model_selection import train_test_split\n",
        "x_train_split, x_val, y_train_split, y_val = train_test_split(\n",
        "     X_train, y_train, test_size=0.2, random_state=42)"
      ],
      "execution_count": null,
      "outputs": []
    },
    {
      "cell_type": "code",
      "metadata": {
        "colab": {
          "base_uri": "https://localhost:8080/"
        },
        "id": "olzZ7aposfwH",
        "outputId": "6537523b-bdcd-48d6-b452-7b8fdeea1370"
      },
      "source": [
        "from tensorflow import keras\n",
        "from tensorflow.keras.models import Sequential\n",
        "from tensorflow.keras.layers import Dense, Embedding, LSTM, Flatten\n",
        "\n",
        "#Define model structure & parameter search space with function\n",
        "def build_model(hp):\n",
        "    model = keras.Sequential()\n",
        "    model.add(Embedding(10000, 16, input_length=40))\n",
        "    model.add(LSTM(units=hp.Int(\"units\", min_value=32, max_value=512, step=32), #range 32-512 inclusive, minimum step between tested values is 32\n",
        "                   return_sequences=True, dropout=0.2, recurrent_dropout=0.2))\n",
        "    model.add(Flatten())\n",
        "    model.add(Dense(2, activation='softmax'))\n",
        "    model.compile(\n",
        "        optimizer=\"rmsprop\", loss=\"binary_crossentropy\", metrics=[\"accuracy\"],\n",
        "    )\n",
        "    return model\n",
        "\n",
        "#initialize the tuner (which will search through parameters)\n",
        "tuner = kt.RandomSearch(\n",
        "    hypermodel=build_model, \n",
        "    objective=\"val_accuracy\", # objective to optimize\n",
        "    max_trials=3, #max number of trials to run during search\n",
        "    executions_per_trial=1, #higher number reduces variance of results; guages model performance more accurately \n",
        "    overwrite=True,\n",
        "    directory=\"tuning_model\",\n",
        "    project_name=\"tuning_units\",\n",
        ")\n",
        "\n",
        "tuner.search(preprocessor(x_train_split), y_train_split, epochs=1, validation_data=(preprocessor(x_val), y_val))\n"
      ],
      "execution_count": null,
      "outputs": [
        {
          "output_type": "stream",
          "name": "stdout",
          "text": [
            "Trial 3 Complete [00h 01m 56s]\n",
            "val_accuracy: 0.8977709412574768\n",
            "\n",
            "Best val_accuracy So Far: 0.9046887159347534\n",
            "Total elapsed time: 00h 03m 05s\n"
          ]
        }
      ]
    },
    {
      "cell_type": "code",
      "metadata": {
        "colab": {
          "base_uri": "https://localhost:8080/"
        },
        "id": "0YaEbvJ2yND1",
        "outputId": "48b57086-01ed-405c-bf73-2a7b3c334d74"
      },
      "source": [
        "# Build model with best hyperparameters\n",
        "\n",
        "# Get the top 2 hyperparameters.\n",
        "best_hps = tuner.get_best_hyperparameters(5)\n",
        "# Build the model with the best hp.\n",
        "tuned_model = build_model(best_hps[0])\n",
        "# Fit with the entire dataset.\n",
        "tuned_model.fit(x=preprocessor(X_train), y=y_train, epochs=1)\n"
      ],
      "execution_count": null,
      "outputs": [
        {
          "output_type": "stream",
          "name": "stdout",
          "text": [
            "204/204 [==============================] - 16s 64ms/step - loss: 0.3771 - accuracy: 0.8309\n"
          ]
        },
        {
          "output_type": "execute_result",
          "data": {
            "text/plain": [
              "<keras.callbacks.History at 0x7ff2e739af10>"
            ]
          },
          "metadata": {},
          "execution_count": 24
        }
      ]
    },
    {
      "cell_type": "code",
      "metadata": {
        "id": "HvLuIvOjHLH2"
      },
      "source": [
        "# Save sklearn model to local ONNX file\n",
        "from aimodelshare.aimsonnx import model_to_onnx\n",
        "\n",
        "onnx_model = model_to_onnx(tuned_model, framework='keras',\n",
        "                          transfer_learning=False,\n",
        "                          deep_learning=True)\n",
        "\n",
        "with open(\"tuned_model.onnx\", \"wb\") as f:\n",
        "    f.write(onnx_model.SerializeToString())"
      ],
      "execution_count": null,
      "outputs": []
    },
    {
      "cell_type": "code",
      "metadata": {
        "colab": {
          "base_uri": "https://localhost:8080/"
        },
        "id": "sMidHABfHVN7",
        "outputId": "5d3345c1-c632-4cbd-da74-1658e8f66072"
      },
      "source": [
        "#Submit Model 3: \n",
        "\n",
        "#-- Generate predicted y values (Model 3)\n",
        "prediction_column_index=tuned_model.predict(preprocessor(X_test)).argmax(axis=1)\n",
        "\n",
        "# extract correct prediction labels \n",
        "prediction_labels = [y_train.columns[i] for i in prediction_column_index]\n",
        "\n",
        "# Submit Model 1 to Competition Leaderboard\n",
        "mycompetition.submit_model(model_filepath = \"tuned_model.onnx\",\n",
        "                                 preprocessor_filepath=\"preprocessor.zip\",\n",
        "                                 prediction_submission=prediction_labels)"
      ],
      "execution_count": null,
      "outputs": [
        {
          "output_type": "stream",
          "name": "stdout",
          "text": [
            "Insert search tags to help users find your model (optional): \n",
            "Provide any useful notes about your model (optional): \n",
            "\n",
            "Your model has been submitted as model version 17\n",
            "\n",
            "To submit code used to create this model or to view current leaderboard navigate to Model Playground: \n",
            "\n",
            " https://www.modelshare.org/detail/model:769\n"
          ]
        }
      ]
    },
    {
      "cell_type": "code",
      "metadata": {
        "id": "hn-Tp-zpJVGT"
      },
      "source": [
        "# Get leaderboard\n",
        "\n",
        "data = mycompetition.get_leaderboard()\n",
        "mycompetition.stylize_leaderboard(data)"
      ],
      "execution_count": null,
      "outputs": []
    },
    {
      "cell_type": "code",
      "metadata": {
        "id": "MKvPKyb7hT0h",
        "colab": {
          "base_uri": "https://localhost:8080/",
          "height": 144
        },
        "outputId": "c73a3d3b-a4a8-4c0e-cf9a-db709bcc246e"
      },
      "source": [
        "# Compare two or more models (Experimental, Git-like Diffs for Model Architectures)\n",
        "data=mycompetition.compare_models([12,13], verbose=1)\n",
        "mycompetition.stylize_compare(data)"
      ],
      "execution_count": null,
      "outputs": [
        {
          "output_type": "display_data",
          "data": {
            "text/html": [
              "<style  type=\"text/css\" >\n",
              "    #T_8fea7526_4b29_11ec_a43d_0242ac1c0002 caption {\n",
              "          color: black;\n",
              "          font-size: 18px;\n",
              "    }#T_8fea7526_4b29_11ec_a43d_0242ac1c0002row0_col0,#T_8fea7526_4b29_11ec_a43d_0242ac1c0002row0_col3{\n",
              "            background:  #f4cae4;\n",
              "            color:  black;\n",
              "            color:  black;\n",
              "        }#T_8fea7526_4b29_11ec_a43d_0242ac1c0002row0_col1,#T_8fea7526_4b29_11ec_a43d_0242ac1c0002row0_col2,#T_8fea7526_4b29_11ec_a43d_0242ac1c0002row0_col4,#T_8fea7526_4b29_11ec_a43d_0242ac1c0002row0_col5,#T_8fea7526_4b29_11ec_a43d_0242ac1c0002row1_col1,#T_8fea7526_4b29_11ec_a43d_0242ac1c0002row1_col2,#T_8fea7526_4b29_11ec_a43d_0242ac1c0002row1_col4,#T_8fea7526_4b29_11ec_a43d_0242ac1c0002row1_col5,#T_8fea7526_4b29_11ec_a43d_0242ac1c0002row2_col1,#T_8fea7526_4b29_11ec_a43d_0242ac1c0002row2_col2,#T_8fea7526_4b29_11ec_a43d_0242ac1c0002row2_col4,#T_8fea7526_4b29_11ec_a43d_0242ac1c0002row2_col5,#T_8fea7526_4b29_11ec_a43d_0242ac1c0002row3_col1,#T_8fea7526_4b29_11ec_a43d_0242ac1c0002row3_col2,#T_8fea7526_4b29_11ec_a43d_0242ac1c0002row3_col4,#T_8fea7526_4b29_11ec_a43d_0242ac1c0002row3_col5,#T_8fea7526_4b29_11ec_a43d_0242ac1c0002row4_col1,#T_8fea7526_4b29_11ec_a43d_0242ac1c0002row4_col2,#T_8fea7526_4b29_11ec_a43d_0242ac1c0002row4_col3,#T_8fea7526_4b29_11ec_a43d_0242ac1c0002row4_col4,#T_8fea7526_4b29_11ec_a43d_0242ac1c0002row4_col5{\n",
              "            background:  white;\n",
              "            color:  black;\n",
              "            color:  black;\n",
              "        }#T_8fea7526_4b29_11ec_a43d_0242ac1c0002row1_col0,#T_8fea7526_4b29_11ec_a43d_0242ac1c0002row1_col3,#T_8fea7526_4b29_11ec_a43d_0242ac1c0002row2_col0{\n",
              "            background:  #cbd5e8;\n",
              "            color:  black;\n",
              "            color:  black;\n",
              "        }#T_8fea7526_4b29_11ec_a43d_0242ac1c0002row2_col3,#T_8fea7526_4b29_11ec_a43d_0242ac1c0002row3_col0{\n",
              "            background:  #e6f5c9;\n",
              "            color:  black;\n",
              "            color:  black;\n",
              "        }#T_8fea7526_4b29_11ec_a43d_0242ac1c0002row3_col3,#T_8fea7526_4b29_11ec_a43d_0242ac1c0002row4_col0{\n",
              "            background:  #fff2ae;\n",
              "            color:  black;\n",
              "            color:  black;\n",
              "        }</style><table id=\"T_8fea7526_4b29_11ec_a43d_0242ac1c0002\" ><caption>Model type: Neural Network</caption><thead>    <tr>        <th class=\"blank level0\" ></th>        <th class=\"col_heading level0 col0\" >Model_12_Layer</th>        <th class=\"col_heading level0 col1\" >Model_12_Shape</th>        <th class=\"col_heading level0 col2\" >Model_12_Params</th>        <th class=\"col_heading level0 col3\" >Model_13_Layer</th>        <th class=\"col_heading level0 col4\" >Model_13_Shape</th>        <th class=\"col_heading level0 col5\" >Model_13_Params</th>    </tr></thead><tbody>\n",
              "                <tr>\n",
              "                        <th id=\"T_8fea7526_4b29_11ec_a43d_0242ac1c0002level0_row0\" class=\"row_heading level0 row0\" >0</th>\n",
              "                        <td id=\"T_8fea7526_4b29_11ec_a43d_0242ac1c0002row0_col0\" class=\"data row0 col0\" >Embedding</td>\n",
              "                        <td id=\"T_8fea7526_4b29_11ec_a43d_0242ac1c0002row0_col1\" class=\"data row0 col1\" >[None, 40, 16]</td>\n",
              "                        <td id=\"T_8fea7526_4b29_11ec_a43d_0242ac1c0002row0_col2\" class=\"data row0 col2\" >160000</td>\n",
              "                        <td id=\"T_8fea7526_4b29_11ec_a43d_0242ac1c0002row0_col3\" class=\"data row0 col3\" >Embedding</td>\n",
              "                        <td id=\"T_8fea7526_4b29_11ec_a43d_0242ac1c0002row0_col4\" class=\"data row0 col4\" >[None, 40, 16]</td>\n",
              "                        <td id=\"T_8fea7526_4b29_11ec_a43d_0242ac1c0002row0_col5\" class=\"data row0 col5\" >160000.000000</td>\n",
              "            </tr>\n",
              "            <tr>\n",
              "                        <th id=\"T_8fea7526_4b29_11ec_a43d_0242ac1c0002level0_row1\" class=\"row_heading level0 row1\" >1</th>\n",
              "                        <td id=\"T_8fea7526_4b29_11ec_a43d_0242ac1c0002row1_col0\" class=\"data row1 col0\" >LSTM</td>\n",
              "                        <td id=\"T_8fea7526_4b29_11ec_a43d_0242ac1c0002row1_col1\" class=\"data row1 col1\" >[None, 40, 32]</td>\n",
              "                        <td id=\"T_8fea7526_4b29_11ec_a43d_0242ac1c0002row1_col2\" class=\"data row1 col2\" >6272</td>\n",
              "                        <td id=\"T_8fea7526_4b29_11ec_a43d_0242ac1c0002row1_col3\" class=\"data row1 col3\" >LSTM</td>\n",
              "                        <td id=\"T_8fea7526_4b29_11ec_a43d_0242ac1c0002row1_col4\" class=\"data row1 col4\" >[None, 40, 32]</td>\n",
              "                        <td id=\"T_8fea7526_4b29_11ec_a43d_0242ac1c0002row1_col5\" class=\"data row1 col5\" >6272.000000</td>\n",
              "            </tr>\n",
              "            <tr>\n",
              "                        <th id=\"T_8fea7526_4b29_11ec_a43d_0242ac1c0002level0_row2\" class=\"row_heading level0 row2\" >2</th>\n",
              "                        <td id=\"T_8fea7526_4b29_11ec_a43d_0242ac1c0002row2_col0\" class=\"data row2 col0\" >LSTM</td>\n",
              "                        <td id=\"T_8fea7526_4b29_11ec_a43d_0242ac1c0002row2_col1\" class=\"data row2 col1\" >[None, 40, 32]</td>\n",
              "                        <td id=\"T_8fea7526_4b29_11ec_a43d_0242ac1c0002row2_col2\" class=\"data row2 col2\" >8320</td>\n",
              "                        <td id=\"T_8fea7526_4b29_11ec_a43d_0242ac1c0002row2_col3\" class=\"data row2 col3\" >Flatten</td>\n",
              "                        <td id=\"T_8fea7526_4b29_11ec_a43d_0242ac1c0002row2_col4\" class=\"data row2 col4\" >[None, 1280]</td>\n",
              "                        <td id=\"T_8fea7526_4b29_11ec_a43d_0242ac1c0002row2_col5\" class=\"data row2 col5\" >0.000000</td>\n",
              "            </tr>\n",
              "            <tr>\n",
              "                        <th id=\"T_8fea7526_4b29_11ec_a43d_0242ac1c0002level0_row3\" class=\"row_heading level0 row3\" >3</th>\n",
              "                        <td id=\"T_8fea7526_4b29_11ec_a43d_0242ac1c0002row3_col0\" class=\"data row3 col0\" >Flatten</td>\n",
              "                        <td id=\"T_8fea7526_4b29_11ec_a43d_0242ac1c0002row3_col1\" class=\"data row3 col1\" >[None, 1280]</td>\n",
              "                        <td id=\"T_8fea7526_4b29_11ec_a43d_0242ac1c0002row3_col2\" class=\"data row3 col2\" >0</td>\n",
              "                        <td id=\"T_8fea7526_4b29_11ec_a43d_0242ac1c0002row3_col3\" class=\"data row3 col3\" >Dense</td>\n",
              "                        <td id=\"T_8fea7526_4b29_11ec_a43d_0242ac1c0002row3_col4\" class=\"data row3 col4\" >[None, 2]</td>\n",
              "                        <td id=\"T_8fea7526_4b29_11ec_a43d_0242ac1c0002row3_col5\" class=\"data row3 col5\" >2562.000000</td>\n",
              "            </tr>\n",
              "            <tr>\n",
              "                        <th id=\"T_8fea7526_4b29_11ec_a43d_0242ac1c0002level0_row4\" class=\"row_heading level0 row4\" >4</th>\n",
              "                        <td id=\"T_8fea7526_4b29_11ec_a43d_0242ac1c0002row4_col0\" class=\"data row4 col0\" >Dense</td>\n",
              "                        <td id=\"T_8fea7526_4b29_11ec_a43d_0242ac1c0002row4_col1\" class=\"data row4 col1\" >[None, 2]</td>\n",
              "                        <td id=\"T_8fea7526_4b29_11ec_a43d_0242ac1c0002row4_col2\" class=\"data row4 col2\" >2562</td>\n",
              "                        <td id=\"T_8fea7526_4b29_11ec_a43d_0242ac1c0002row4_col3\" class=\"data row4 col3\" >None</td>\n",
              "                        <td id=\"T_8fea7526_4b29_11ec_a43d_0242ac1c0002row4_col4\" class=\"data row4 col4\" >None</td>\n",
              "                        <td id=\"T_8fea7526_4b29_11ec_a43d_0242ac1c0002row4_col5\" class=\"data row4 col5\" >nan</td>\n",
              "            </tr>\n",
              "    </tbody></table>"
            ],
            "text/plain": [
              "<IPython.core.display.HTML object>"
            ]
          },
          "metadata": {}
        }
      ]
    }
  ]
}